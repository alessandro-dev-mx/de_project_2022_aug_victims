{
 "cells": [
  {
   "cell_type": "markdown",
   "metadata": {},
   "source": [
    "# Data Engineering Project | August 2022 | Victims Dataset\n",
    "## Explore Data\n",
    "\n",
    "In this notebook some functions will be applied to the input CSVs to understand\n",
    "the data, thus come with a proper data architecture for the project."
   ]
  },
  {
   "cell_type": "markdown",
   "metadata": {},
   "source": [
    "### Import relevant packages"
   ]
  },
  {
   "cell_type": "code",
   "execution_count": 1,
   "metadata": {},
   "outputs": [],
   "source": [
    "import pandas as pd"
   ]
  },
  {
   "cell_type": "markdown",
   "metadata": {},
   "source": [
    "### Load CSV data"
   ]
  },
  {
   "cell_type": "code",
   "execution_count": 3,
   "metadata": {},
   "outputs": [],
   "source": [
    "acc_deaths_df = pd.read_csv('../data/accidental_deaths_2021_to_date.csv')\n",
    "acc_deaths_df.name = 'Accidental Deaths 2021 To Date'\n",
    "\n",
    "acc_injuries_df = pd.read_csv('../data/accidental_injuries_2021_to_date.csv')\n",
    "acc_injuries_df.name = 'Accidental Injuries 2021 To Date'\n",
    "\n",
    "chi_killed_df = pd.read_csv('../data/children_killed_2021_to_date.csv')\n",
    "chi_killed_df.name = 'Children Killed 2021 To Date'\n",
    "\n",
    "chi_injured_df = pd.read_csv('../data/children_injured_2021_to_date.csv')\n",
    "chi_injured_df.name = 'Children Injured 2021 To Date'\n",
    "\n",
    "teens_killed_df = pd.read_csv('../data/teens_killed_2021_to_date.csv')\n",
    "teens_killed_df.name = 'Teens Killed 2021 To Date'\n",
    "\n",
    "teens_injured_df = pd.read_csv('../data/teens_injured_2021_to_date.csv')\n",
    "teens_injured_df.name = 'Teens Injured 2021 To Date'\n",
    "\n",
    "ms_inj_kil_df = pd.read_csv('../data/mass_shootings_Injured_killed_2021_to_date.csv')\n",
    "ms_inj_kil_df.name = 'Mass Shootings Injured Killed 2021 To Date'"
   ]
  },
  {
   "cell_type": "code",
   "execution_count": 6,
   "metadata": {},
   "outputs": [],
   "source": [
    "all_input_dfs = [acc_deaths_df, acc_injuries_df, chi_killed_df,\n",
    "                 chi_injured_df, teens_killed_df, teens_injured_df,\n",
    "                 ms_inj_kil_df]"
   ]
  },
  {
   "cell_type": "markdown",
   "metadata": {},
   "source": [
    "### Check number of rows, column names and data types per file"
   ]
  },
  {
   "cell_type": "code",
   "execution_count": 32,
   "metadata": {},
   "outputs": [
    {
     "name": "stdout",
     "output_type": "stream",
     "text": [
      "----- Accidental Deaths 2021 To Date -----\n",
      "Number of rows: 714\n",
      "Column names: ['Incident ID', 'Incident Date', 'State', 'City Or County', 'Address', '# Killed', '# Injured', 'Operations']\n",
      "Column data types: \n",
      "Incident ID         int64\n",
      "Incident Date      object\n",
      "State              object\n",
      "City Or County     object\n",
      "Address            object\n",
      "# Killed            int64\n",
      "# Injured           int64\n",
      "Operations        float64\n",
      "dtype: object\n",
      "----- Accidental Injuries 2021 To Date -----\n",
      "Number of rows: 1930\n",
      "Column names: ['Incident ID', 'Incident Date', 'State', 'City Or County', 'Address', '# Killed', '# Injured', 'Operations']\n",
      "Column data types: \n",
      "Incident ID         int64\n",
      "Incident Date      object\n",
      "State              object\n",
      "City Or County     object\n",
      "Address            object\n",
      "# Killed            int64\n",
      "# Injured           int64\n",
      "Operations        float64\n",
      "dtype: object\n",
      "----- Children Killed 2021 To Date -----\n",
      "Number of rows: 436\n",
      "Column names: ['Incident ID', 'Incident Date', 'State', 'City Or County', 'Address', '# Killed', '# Injured', 'Operations']\n",
      "Column data types: \n",
      "Incident ID         int64\n",
      "Incident Date      object\n",
      "State              object\n",
      "City Or County     object\n",
      "Address            object\n",
      "# Killed            int64\n",
      "# Injured           int64\n",
      "Operations        float64\n",
      "dtype: object\n",
      "----- Children Injured 2021 To Date -----\n",
      "Number of rows: 1039\n",
      "Column names: ['Incident ID', 'Incident Date', 'State', 'City Or County', 'Address', '# Killed', '# Injured', 'Operations']\n",
      "Column data types: \n",
      "Incident ID         int64\n",
      "Incident Date      object\n",
      "State              object\n",
      "City Or County     object\n",
      "Address            object\n",
      "# Killed            int64\n",
      "# Injured           int64\n",
      "Operations        float64\n",
      "dtype: object\n",
      "----- Teens Killed 2021 To Date -----\n",
      "Number of rows: 1837\n",
      "Column names: ['Incident ID', 'Incident Date', 'State', 'City Or County', 'Address', '# Killed', '# Injured', 'Operations']\n",
      "Column data types: \n",
      "Incident ID         int64\n",
      "Incident Date      object\n",
      "State              object\n",
      "City Or County     object\n",
      "Address            object\n",
      "# Killed            int64\n",
      "# Injured           int64\n",
      "Operations        float64\n",
      "dtype: object\n",
      "----- Teens Injured 2021 To Date -----\n",
      "Number of rows: 4856\n",
      "Column names: ['Incident ID', 'Incident Date', 'State', 'City Or County', 'Address', '# Killed', '# Injured', 'Operations']\n",
      "Column data types: \n",
      "Incident ID         int64\n",
      "Incident Date      object\n",
      "State              object\n",
      "City Or County     object\n",
      "Address            object\n",
      "# Killed            int64\n",
      "# Injured           int64\n",
      "Operations        float64\n",
      "dtype: object\n",
      "----- Mass Shootings Injured Killed 2021 To Date -----\n",
      "Number of rows: 977\n",
      "Column names: ['Incident ID', 'Incident Date', 'State', 'City Or County', 'Address', '# Killed', '# Injured', 'Operations']\n",
      "Column data types: \n",
      "Incident ID         int64\n",
      "Incident Date      object\n",
      "State              object\n",
      "City Or County     object\n",
      "Address            object\n",
      "# Killed            int64\n",
      "# Injured           int64\n",
      "Operations        float64\n",
      "dtype: object\n"
     ]
    }
   ],
   "source": [
    "for df in all_input_dfs:\n",
    "    print(f'----- {df.name} -----')\n",
    "    print(f'Number of rows: {len(df.index)}')\n",
    "    print(f'Column names: {list(df.columns)}')\n",
    "    print(f'Column data types: \\n{df.dtypes}')"
   ]
  },
  {
   "cell_type": "markdown",
   "metadata": {},
   "source": [
    "#### Observations\n",
    "- All files have the same number, name and type of columns\n",
    "- Number of records per file differ from one to another"
   ]
  },
  {
   "cell_type": "markdown",
   "metadata": {},
   "source": [
    "### Check how the datasets relate to each other"
   ]
  },
  {
   "cell_type": "markdown",
   "metadata": {},
   "source": [
    "Check how many accidents involved both deaths and injuries"
   ]
  },
  {
   "cell_type": "code",
   "execution_count": 22,
   "metadata": {},
   "outputs": [
    {
     "data": {
      "text/plain": [
       "24"
      ]
     },
     "execution_count": 22,
     "metadata": {},
     "output_type": "execute_result"
    }
   ],
   "source": [
    "len(set(acc_deaths_df['Incident ID']).intersection(acc_injuries_df['Incident ID']))"
   ]
  },
  {
   "cell_type": "markdown",
   "metadata": {},
   "source": [
    "Check how many incidents involving children have injured and killed victims\n"
   ]
  },
  {
   "cell_type": "code",
   "execution_count": 23,
   "metadata": {},
   "outputs": [
    {
     "data": {
      "text/plain": [
       "27"
      ]
     },
     "execution_count": 23,
     "metadata": {},
     "output_type": "execute_result"
    }
   ],
   "source": [
    "len(set(chi_killed_df['Incident ID']).intersection(chi_injured_df['Incident ID']))"
   ]
  },
  {
   "cell_type": "markdown",
   "metadata": {},
   "source": [
    "Check how many incidents involving teens have injured and killed victims"
   ]
  },
  {
   "cell_type": "code",
   "execution_count": 24,
   "metadata": {},
   "outputs": [
    {
     "data": {
      "text/plain": [
       "312"
      ]
     },
     "execution_count": 24,
     "metadata": {},
     "output_type": "execute_result"
    }
   ],
   "source": [
    "len(set(teens_killed_df['Incident ID']).intersection(teens_injured_df['Incident ID']))"
   ]
  },
  {
   "cell_type": "markdown",
   "metadata": {},
   "source": [
    "Check how many incidents involving teens and children have killed victims"
   ]
  },
  {
   "cell_type": "code",
   "execution_count": 25,
   "metadata": {},
   "outputs": [
    {
     "data": {
      "text/plain": [
       "22"
      ]
     },
     "execution_count": 25,
     "metadata": {},
     "output_type": "execute_result"
    }
   ],
   "source": [
    "len(set(teens_killed_df['Incident ID']).intersection(chi_killed_df['Incident ID']))"
   ]
  },
  {
   "cell_type": "markdown",
   "metadata": {},
   "source": [
    "Check how many incidents involving teens and children have injured victims"
   ]
  },
  {
   "cell_type": "code",
   "execution_count": 26,
   "metadata": {},
   "outputs": [
    {
     "data": {
      "text/plain": [
       "88"
      ]
     },
     "execution_count": 26,
     "metadata": {},
     "output_type": "execute_result"
    }
   ],
   "source": [
    "len(set(teens_injured_df['Incident ID']).intersection(chi_injured_df['Incident ID']))"
   ]
  },
  {
   "cell_type": "markdown",
   "metadata": {},
   "source": [
    "Check how many mass shootings involve children"
   ]
  },
  {
   "cell_type": "code",
   "execution_count": 36,
   "metadata": {},
   "outputs": [
    {
     "data": {
      "text/plain": [
       "77"
      ]
     },
     "execution_count": 36,
     "metadata": {},
     "output_type": "execute_result"
    }
   ],
   "source": [
    "len(\n",
    "    (\n",
    "        set(chi_injured_df['Incident ID']).\n",
    "        union(set(chi_killed_df['Incident ID']))\n",
    "    ).\n",
    "    intersection(set(ms_inj_kil_df['Incident ID']))\n",
    ")"
   ]
  },
  {
   "cell_type": "markdown",
   "metadata": {},
   "source": [
    "#### Observations\n",
    "\n",
    "- There are \"duplicated\" records in the datasets, this means that some events\n",
    "  fall under different categories"
   ]
  },
  {
   "cell_type": "markdown",
   "metadata": {},
   "source": []
  }
 ],
 "metadata": {
  "kernelspec": {
   "display_name": "Python 3.8.8 ('base')",
   "language": "python",
   "name": "python3"
  },
  "language_info": {
   "codemirror_mode": {
    "name": "ipython",
    "version": 3
   },
   "file_extension": ".py",
   "mimetype": "text/x-python",
   "name": "python",
   "nbconvert_exporter": "python",
   "pygments_lexer": "ipython3",
   "version": "3.8.8"
  },
  "orig_nbformat": 4,
  "vscode": {
   "interpreter": {
    "hash": "19b30dbe6185c00f0527ed25612e97926fdd6a380548cb507129facf6314afcd"
   }
  }
 },
 "nbformat": 4,
 "nbformat_minor": 2
}
