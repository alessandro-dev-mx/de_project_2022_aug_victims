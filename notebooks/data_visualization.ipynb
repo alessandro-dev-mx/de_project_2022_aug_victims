{
 "cells": [
  {
   "cell_type": "markdown",
   "metadata": {},
   "source": [
    "# Data Engineering Project | August 2022 | Victims Dataset\n",
    "## Data Visualization Notebook"
   ]
  },
  {
   "cell_type": "markdown",
   "metadata": {},
   "source": [
    "### Import packages"
   ]
  },
  {
   "cell_type": "code",
   "execution_count": 94,
   "metadata": {},
   "outputs": [],
   "source": [
    "import pandas as pd\n",
    "from matplotlib import pyplot as plt\n",
    "from matplotlib import dates as mpl_dates"
   ]
  },
  {
   "cell_type": "markdown",
   "metadata": {},
   "source": [
    "### Load CSV data"
   ]
  },
  {
   "cell_type": "code",
   "execution_count": 95,
   "metadata": {},
   "outputs": [],
   "source": [
    "acc_deaths_df = pd.read_csv('../output/all_victims_2021_to_date.csv', header=0, index_col=0)\n",
    "acc_deaths_df.name = 'All Victims 2021 To Date'"
   ]
  },
  {
   "cell_type": "markdown",
   "metadata": {},
   "source": [
    "### Prepare Dataframe"
   ]
  },
  {
   "cell_type": "code",
   "execution_count": 96,
   "metadata": {},
   "outputs": [],
   "source": [
    "acc_deaths_df['Incident Date'] = pd.to_datetime(acc_deaths_df['Incident Date'])\n",
    "acc_deaths_df.sort_values(by='Incident Date', ascending=True, inplace=True)"
   ]
  },
  {
   "cell_type": "markdown",
   "metadata": {},
   "source": [
    "### Prepare data"
   ]
  },
  {
   "cell_type": "code",
   "execution_count": 97,
   "metadata": {},
   "outputs": [],
   "source": [
    "# Obtain vector and DF that indicates what events involve gun \"accidents\"\n",
    "gun_v = acc_deaths_df['Mass Shooting']\n",
    "gun_df = acc_deaths_df[gun_v]"
   ]
  },
  {
   "cell_type": "code",
   "execution_count": 98,
   "metadata": {},
   "outputs": [],
   "source": [
    "# Obtain vector and DF that indicates what events involve children\n",
    "children_v = acc_deaths_df['Children Involved']\n",
    "children_df = acc_deaths_df[children_v]"
   ]
  },
  {
   "cell_type": "code",
   "execution_count": 99,
   "metadata": {},
   "outputs": [],
   "source": [
    "# Obtain vector and DF that indicates what events involve teens\n",
    "teens_v = acc_deaths_df['Teens Involved']\n",
    "teens_df = acc_deaths_df[teens_v]"
   ]
  },
  {
   "cell_type": "code",
   "execution_count": 100,
   "metadata": {},
   "outputs": [],
   "source": [
    "# Obtain vector that indicates the children and teens involved in accidents\n",
    "children_teens_vector = children_v | teens_v"
   ]
  },
  {
   "cell_type": "code",
   "execution_count": 101,
   "metadata": {},
   "outputs": [
    {
     "data": {
      "text/plain": [
       "True     7710\n",
       "False    2258\n",
       "dtype: int64"
      ]
     },
     "execution_count": 101,
     "metadata": {},
     "output_type": "execute_result"
    }
   ],
   "source": [
    "children_teens_vector.value_counts()"
   ]
  },
  {
   "cell_type": "code",
   "execution_count": 102,
   "metadata": {},
   "outputs": [],
   "source": [
    "# Obtain vector that indicates the mass shooting events\n",
    "ms_vector = acc_deaths_df['Mass Shooting']"
   ]
  },
  {
   "cell_type": "code",
   "execution_count": 103,
   "metadata": {},
   "outputs": [
    {
     "data": {
      "text/plain": [
       "False    8991\n",
       "True      977\n",
       "Name: Mass Shooting, dtype: int64"
      ]
     },
     "execution_count": 103,
     "metadata": {},
     "output_type": "execute_result"
    }
   ],
   "source": [
    "ms_vector.value_counts()"
   ]
  },
  {
   "cell_type": "code",
   "execution_count": 104,
   "metadata": {},
   "outputs": [],
   "source": [
    "# Obtain vector with the final list of elements that match the criteria\n",
    "final_vector = children_teens_vector & ms_vector"
   ]
  },
  {
   "cell_type": "code",
   "execution_count": 105,
   "metadata": {},
   "outputs": [
    {
     "data": {
      "text/plain": [
       "False    9657\n",
       "True      311\n",
       "dtype: int64"
      ]
     },
     "execution_count": 105,
     "metadata": {},
     "output_type": "execute_result"
    }
   ],
   "source": [
    "final_vector.value_counts()"
   ]
  },
  {
   "cell_type": "code",
   "execution_count": 106,
   "metadata": {},
   "outputs": [],
   "source": [
    "# Obtain data of the victims of mass shootings that are considered to be children or teens\n",
    "ms_vics_child_teens_df = acc_deaths_df[final_vector]"
   ]
  },
  {
   "cell_type": "code",
   "execution_count": 107,
   "metadata": {},
   "outputs": [
    {
     "data": {
      "text/html": [
       "<div>\n",
       "<style scoped>\n",
       "    .dataframe tbody tr th:only-of-type {\n",
       "        vertical-align: middle;\n",
       "    }\n",
       "\n",
       "    .dataframe tbody tr th {\n",
       "        vertical-align: top;\n",
       "    }\n",
       "\n",
       "    .dataframe thead th {\n",
       "        text-align: right;\n",
       "    }\n",
       "</style>\n",
       "<table border=\"1\" class=\"dataframe\">\n",
       "  <thead>\n",
       "    <tr style=\"text-align: right;\">\n",
       "      <th></th>\n",
       "      <th>Incident ID</th>\n",
       "      <th>Incident Date</th>\n",
       "      <th>State</th>\n",
       "      <th>City Or County</th>\n",
       "      <th>Address</th>\n",
       "      <th># Killed</th>\n",
       "      <th># Injured</th>\n",
       "      <th>Children Involved</th>\n",
       "      <th>Teens Involved</th>\n",
       "      <th>Accident</th>\n",
       "      <th>Mass Shooting</th>\n",
       "      <th>Year</th>\n",
       "      <th>Quarter</th>\n",
       "      <th>Month</th>\n",
       "      <th>Week</th>\n",
       "      <th>Weekday</th>\n",
       "    </tr>\n",
       "  </thead>\n",
       "  <tbody>\n",
       "    <tr>\n",
       "      <th>1892114</th>\n",
       "      <td>1892114</td>\n",
       "      <td>2021-01-01</td>\n",
       "      <td>Iowa</td>\n",
       "      <td>Sioux City</td>\n",
       "      <td>2637 S Walker St</td>\n",
       "      <td>1.0</td>\n",
       "      <td>4.0</td>\n",
       "      <td>False</td>\n",
       "      <td>True</td>\n",
       "      <td>False</td>\n",
       "      <td>True</td>\n",
       "      <td>2021</td>\n",
       "      <td>1</td>\n",
       "      <td>1</td>\n",
       "      <td>53</td>\n",
       "      <td>4</td>\n",
       "    </tr>\n",
       "    <tr>\n",
       "      <th>1893953</th>\n",
       "      <td>1893953</td>\n",
       "      <td>2021-01-03</td>\n",
       "      <td>Oregon</td>\n",
       "      <td>Gresham</td>\n",
       "      <td>NE 181st Ave and NE San Rafael St</td>\n",
       "      <td>0.0</td>\n",
       "      <td>4.0</td>\n",
       "      <td>False</td>\n",
       "      <td>True</td>\n",
       "      <td>False</td>\n",
       "      <td>True</td>\n",
       "      <td>2021</td>\n",
       "      <td>1</td>\n",
       "      <td>1</td>\n",
       "      <td>53</td>\n",
       "      <td>6</td>\n",
       "    </tr>\n",
       "    <tr>\n",
       "      <th>1893877</th>\n",
       "      <td>1893877</td>\n",
       "      <td>2021-01-03</td>\n",
       "      <td>California</td>\n",
       "      <td>Santa Barbara</td>\n",
       "      <td>1200 block of Liberty St</td>\n",
       "      <td>2.0</td>\n",
       "      <td>2.0</td>\n",
       "      <td>False</td>\n",
       "      <td>True</td>\n",
       "      <td>False</td>\n",
       "      <td>True</td>\n",
       "      <td>2021</td>\n",
       "      <td>1</td>\n",
       "      <td>1</td>\n",
       "      <td>53</td>\n",
       "      <td>6</td>\n",
       "    </tr>\n",
       "    <tr>\n",
       "      <th>1893744</th>\n",
       "      <td>1893744</td>\n",
       "      <td>2021-01-03</td>\n",
       "      <td>Florida</td>\n",
       "      <td>Miami</td>\n",
       "      <td>10525 NW 24th Ave</td>\n",
       "      <td>0.0</td>\n",
       "      <td>8.0</td>\n",
       "      <td>False</td>\n",
       "      <td>True</td>\n",
       "      <td>False</td>\n",
       "      <td>True</td>\n",
       "      <td>2021</td>\n",
       "      <td>1</td>\n",
       "      <td>1</td>\n",
       "      <td>53</td>\n",
       "      <td>6</td>\n",
       "    </tr>\n",
       "    <tr>\n",
       "      <th>1894822</th>\n",
       "      <td>1894822</td>\n",
       "      <td>2021-01-04</td>\n",
       "      <td>Louisiana</td>\n",
       "      <td>New Orleans</td>\n",
       "      <td>1600 block of N Galvez St</td>\n",
       "      <td>0.0</td>\n",
       "      <td>4.0</td>\n",
       "      <td>False</td>\n",
       "      <td>True</td>\n",
       "      <td>False</td>\n",
       "      <td>True</td>\n",
       "      <td>2021</td>\n",
       "      <td>1</td>\n",
       "      <td>1</td>\n",
       "      <td>1</td>\n",
       "      <td>0</td>\n",
       "    </tr>\n",
       "  </tbody>\n",
       "</table>\n",
       "</div>"
      ],
      "text/plain": [
       "         Incident ID Incident Date       State City Or County  \\\n",
       "1892114      1892114    2021-01-01        Iowa     Sioux City   \n",
       "1893953      1893953    2021-01-03      Oregon        Gresham   \n",
       "1893877      1893877    2021-01-03  California  Santa Barbara   \n",
       "1893744      1893744    2021-01-03     Florida          Miami   \n",
       "1894822      1894822    2021-01-04   Louisiana    New Orleans   \n",
       "\n",
       "                                   Address  # Killed  # Injured  \\\n",
       "1892114                   2637 S Walker St       1.0        4.0   \n",
       "1893953  NE 181st Ave and NE San Rafael St       0.0        4.0   \n",
       "1893877           1200 block of Liberty St       2.0        2.0   \n",
       "1893744                  10525 NW 24th Ave       0.0        8.0   \n",
       "1894822          1600 block of N Galvez St       0.0        4.0   \n",
       "\n",
       "         Children Involved  Teens Involved  Accident  Mass Shooting  Year  \\\n",
       "1892114              False            True     False           True  2021   \n",
       "1893953              False            True     False           True  2021   \n",
       "1893877              False            True     False           True  2021   \n",
       "1893744              False            True     False           True  2021   \n",
       "1894822              False            True     False           True  2021   \n",
       "\n",
       "         Quarter  Month  Week  Weekday  \n",
       "1892114        1      1    53        4  \n",
       "1893953        1      1    53        6  \n",
       "1893877        1      1    53        6  \n",
       "1893744        1      1    53        6  \n",
       "1894822        1      1     1        0  "
      ]
     },
     "execution_count": 107,
     "metadata": {},
     "output_type": "execute_result"
    }
   ],
   "source": [
    "ms_vics_child_teens_df.head(5)"
   ]
  },
  {
   "cell_type": "markdown",
   "metadata": {},
   "source": [
    "#### Plot trend of children/teens proportion being injured or killed in mass shooting"
   ]
  },
  {
   "cell_type": "code",
   "execution_count": 108,
   "metadata": {},
   "outputs": [],
   "source": [
    "plt.rcParams[\"figure.figsize\"] = [14.00, 4.50]\n",
    "plt.rcParams[\"figure.autolayout\"] = True"
   ]
  },
  {
   "cell_type": "code",
   "execution_count": 109,
   "metadata": {},
   "outputs": [
    {
     "data": {
      "text/plain": [
       "[<matplotlib.lines.Line2D at 0x7fb1d10e03a0>]"
      ]
     },
     "execution_count": 109,
     "metadata": {},
     "output_type": "execute_result"
    },
    {
     "data": {
      "image/png": "[encoded data removed]",
      "text/plain": [
       "<Figure size 1008x324 with 1 Axes>"
      ]
     },
     "metadata": {
      "needs_background": "light"
     },
     "output_type": "display_data"
    }
   ],
   "source": [
    "plt.title('Trend of Children/Teens being injured or killed in mass shooting')\n",
    "plt.xlabel('Date')\n",
    "plt.ylabel('# Injured + Killed')\n",
    "ax = plt.gca()\n",
    "ax.xaxis.set_minor_locator(mpl_dates.MonthLocator())\n",
    "ax.xaxis.set_minor_formatter(mpl_dates.DateFormatter('%b'))\n",
    "ax.xaxis.set_major_locator(mpl_dates.YearLocator())\n",
    "ax.xaxis.set_major_formatter(mpl_dates.DateFormatter('%Y'))\n",
    "plt.plot(ms_vics_child_teens_df['Incident Date'], ms_vics_child_teens_df['# Killed'] + ms_vics_child_teens_df['# Injured'])"
   ]
  },
  {
   "cell_type": "markdown",
   "metadata": {},
   "source": [
    "#### Plot trend of gun accidents"
   ]
  },
  {
   "cell_type": "code",
   "execution_count": 110,
   "metadata": {},
   "outputs": [
    {
     "data": {
      "text/plain": [
       "[<matplotlib.lines.Line2D at 0x7fb2090e3af0>]"
      ]
     },
     "execution_count": 110,
     "metadata": {},
     "output_type": "execute_result"
    },
    {
     "data": {
      "image/png": "[encoded data removed]",
      "text/plain": [
       "<Figure size 1008x324 with 1 Axes>"
      ]
     },
     "metadata": {
      "needs_background": "light"
     },
     "output_type": "display_data"
    }
   ],
   "source": [
    "plt.title('Trend of gun accidents')\n",
    "plt.xlabel('Date')\n",
    "plt.ylabel('# Injured + Killed')\n",
    "ax = plt.gca()\n",
    "ax.xaxis.set_minor_locator(mpl_dates.MonthLocator())\n",
    "ax.xaxis.set_minor_formatter(mpl_dates.DateFormatter('%b'))\n",
    "ax.xaxis.set_major_locator(mpl_dates.YearLocator())\n",
    "ax.xaxis.set_major_formatter(mpl_dates.DateFormatter('%Y'))\n",
    "plt.plot(gun_df['Incident Date'], gun_df['# Killed'] + gun_df['# Injured'])"
   ]
  },
  {
   "cell_type": "code",
   "execution_count": null,
   "metadata": {},
   "outputs": [],
   "source": []
  }
 ],
 "metadata": {
  "kernelspec": {
   "display_name": "Python 3.8.8 ('base')",
   "language": "python",
   "name": "python3"
  },
  "language_info": {
   "codemirror_mode": {
    "name": "ipython",
    "version": 3
   },
   "file_extension": ".py",
   "mimetype": "text/x-python",
   "name": "python",
   "nbconvert_exporter": "python",
   "pygments_lexer": "ipython3",
   "version": "3.8.8"
  },
  "orig_nbformat": 4,
  "vscode": {
   "interpreter": {
    "hash": "19b30dbe6185c00f0527ed25612e97926fdd6a380548cb507129facf6314afcd"
   }
  }
 },
 "nbformat": 4,
 "nbformat_minor": 2
}
